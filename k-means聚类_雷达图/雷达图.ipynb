{
 "cells": [
  {
   "cell_type": "markdown",
   "metadata": {},
   "source": [
    "## 数据清洗"
   ]
  },
  {
   "cell_type": "code",
   "execution_count": 1,
   "metadata": {},
   "outputs": [
    {
     "name": "stdout",
     "output_type": "stream",
     "text": [
      "END\n"
     ]
    }
   ],
   "source": [
    "#-*- coding: utf-8 -*-\n",
    "# 数据清洗，过滤掉不符合规则的数据\n",
    "\n",
    "import pandas as pd\n",
    "'''\n",
    "------------------------------------------------------------------------------------\n",
    "路径改一下\n",
    "------------------------------------------------------------------------------------\n",
    "'''\n",
    "datafile = r'C:\\Users\\DELL\\Desktop\\air_data.csv'  # 航空原始数据,第一行为属性标签\n",
    "cleanedfile = r'C:\\Users\\DELL\\Desktop\\data_cleaned.csv'  # 数据清洗后保存的文件\n",
    "cleanedfile2 = r'C:\\Users\\DELL\\Desktop\\data_cleaned.xls' \n",
    "\n",
    "# 读取原始数据，指定UTF-8编码（需要用文本编辑器将数据装换为UTF-8编码）\n",
    "data = pd.read_csv(datafile, encoding='utf-8')\n",
    "\n",
    "# NOTE: * instead of &\n",
    "data = data[data['SUM_YR_1'].notnull() & data['SUM_YR_2'].notnull()\n",
    "            ]  # 票价非空值才保留\n",
    "\n",
    "# 只保留票价非零的，或者平均折扣率与总飞行公里数同时为0的记录。\n",
    "index1 = data['SUM_YR_1'] != 0\n",
    "index2 = data['SUM_YR_2'] != 0\n",
    "index3 = (data['SEG_KM_SUM'] == 0) & (data['avg_discount'] == 0)  # 该规则是“与”\n",
    "data = data[index1 | index2 | index3]  # 该规则是“或”\n",
    "\n",
    "# to_csv\n",
    "data.to_csv(cleanedfile, encoding='utf-8_sig')  # 导出结果\n",
    "data.to_excel(cleanedfile2)\n",
    "print('END')"
   ]
  },
  {
   "cell_type": "code",
   "execution_count": 2,
   "metadata": {},
   "outputs": [
    {
     "name": "stdout",
     "output_type": "stream",
     "text": [
      "筛选的属性前5行为：\n",
      "    LOAD_TIME   FFP_DATE  LAST_TO_END  FLIGHT_COUNT  SEG_KM_SUM  avg_discount\n",
      "0  2014/3/31  2006/11/2            1           210      580717      0.961639\n",
      "1  2014/3/31  2007/2/19            7           140      293678      1.252314\n",
      "2  2014/3/31   2007/2/1           11           135      283712      1.254676\n",
      "3  2014/3/31  2008/8/22           97            23      281336      1.090870\n",
      "4  2014/3/31  2009/4/10            5           152      309928      0.970658\n"
     ]
    }
   ],
   "source": [
    "import pandas as pd\n",
    "import numpy as np\n",
    "\n",
    "# 读取数据清洗后的数据\n",
    "'''\n",
    "------------------------------------------------------------------------------------\n",
    "路径改一下\n",
    "------------------------------------------------------------------------------------\n",
    "'''\n",
    "cleanedfile = r'C:\\Users\\DELL\\Desktop\\data_cleaned.csv'  # 数据清洗后保存的文件路径\n",
    "airline = pd.read_csv(cleanedfile, encoding='utf-8')\n",
    "# 选取需求属性\n",
    "airline_selection = airline[['LOAD_TIME','FFP_DATE','LAST_TO_END',\n",
    "                                     'FLIGHT_COUNT','SEG_KM_SUM','avg_discount']]\n",
    "print('筛选的属性前5行为：\\n',airline_selection.head())"
   ]
  },
  {
   "cell_type": "code",
   "execution_count": 3,
   "metadata": {},
   "outputs": [
    {
     "name": "stdout",
     "output_type": "stream",
     "text": [
      "构建的LRFMC属性前5行为：\n",
      "            L         R    F       M         C\n",
      "0  90.200000  0.033333  210  580717  0.961639\n",
      "1  86.566667  0.233333  140  293678  1.252314\n",
      "2  87.166667  0.366667  135  283712  1.254676\n",
      "3  68.233333  3.233333   23  281336  1.090870\n",
      "4  60.533333  0.166667  152  309928  0.970658\n"
     ]
    }
   ],
   "source": [
    "# 构造属性L\n",
    "L = pd.to_datetime(airline_selection['LOAD_TIME']) - \\\n",
    "pd.to_datetime(airline_selection['FFP_DATE'])\n",
    "L = L.astype('str').str.split().str[0]\n",
    "L = L.astype('int')/30\n",
    "\n",
    "# 合并属性\n",
    "airline_features = pd.concat([L,airline_selection.iloc[:,2:]],axis=1)\n",
    "airline_features['LAST_TO_END'] = airline_features['LAST_TO_END']/30\n",
    "airline_features.columns = ['L','R','F','M','C']\n",
    "print('构建的LRFMC属性前5行为：\\n',airline_features.head())\n",
    "\n",
    "# 标准化处理\n",
    "data = airline_features\n",
    "data = (data - data.mean(axis = 0))/(data.std(axis = 0)) #简洁的语句实现标准化变换\n",
    "data.columns=['Z'+i for i in data.columns] # 表头重命名\n",
    "'''\n",
    "------------------------------------------------------------------------------------\n",
    "路径改一下\n",
    "------------------------------------------------------------------------------------\n",
    "'''\n",
    "data.to_excel(r'C:\\Users\\DELL\\Desktop\\zscoreddata.xls', index = False)"
   ]
  },
  {
   "cell_type": "code",
   "execution_count": 4,
   "metadata": {},
   "outputs": [],
   "source": [
    "# 画出特征雷达图，代码接KMeans_cluster.py\n",
    "\n",
    "def print_cluster_result(data, kmodel):\n",
    "    import pandas as pd\n",
    "    # 简单打印结果\n",
    "    r1 = pd.Series(kmodel.labels_).value_counts()  # 统计各个类别的数目\n",
    "    r2 = pd.DataFrame(kmodel.cluster_centers_)  # 找出聚类中心\n",
    "    r = pd.concat([r2, r1], axis=1)  # 横向连接（0是纵向），得到聚类中心对应的类别下的数目\n",
    "    r.columns = list(data.columns) + [u'类别数目']  # 重命名表头\n",
    "    print(r)\n",
    "    \n",
    "    # print(kmodel.cluster_centers_)  # 查看聚类中心\n",
    "    # print('labels_=', kmodel.labels_)  # 查看各样本对应的类别\n",
    "\n",
    "def plot_cluster(data, kmodel):\n",
    "    import numpy as np\n",
    "    import matplotlib.pyplot as plt    \n",
    "    plt.rcParams['font.sans-serif'] = ['SimHei']  # 用来正常显示中文标签\n",
    "    # plt.rcParams['axes.unicode_minus'] = False  # 用来正常显示负号\n",
    "\n",
    "    labels = data.columns  # 标签\n",
    "    k = 5  # 数据个数\n",
    "    plot_data = kmodel.cluster_centers_\n",
    "    color = ['b', 'g', 'r', 'c', 'y']  # 指定颜色\n",
    "    \n",
    "    angles = np.linspace(0, 2 * np.pi, k, endpoint=False)\n",
    "    plot_data = np.concatenate((plot_data, plot_data[:, [0]]), axis=1)  # 闭合\n",
    "    angles = np.concatenate((angles, [angles[0]]))  # 闭合\n",
    "    \n",
    "    fig = plt.figure()\n",
    "    ax = fig.add_subplot(111, polar=True)  # polar参数！！\n",
    "    for i in range(len(plot_data)):\n",
    "        ax.plot(angles, plot_data[i], 'o-', color=color[i],\n",
    "                label=u'客户群' + str(i+1), linewidth=2)  # 画线\n",
    "    \n",
    "    ax.set_rgrids(np.arange(0.01, 3.5, 0.5),\n",
    "                  np.arange(-1, 2.5, 0.5), fontproperties=\"SimHei\")\n",
    "    ax.set_thetagrids(angles * 180 / np.pi, labels, fontproperties=\"SimHei\")\n",
    "    plt.legend(loc=4)\n",
    "    \n",
    "    \n",
    "    '''\n",
    "    ____________________________________________________________________________________\n",
    "    加了保存图片代码，这里路径改一下就行，不需要就注释掉\n",
    "    ————————————————————————————————————————————————————————————————————————————————————\n",
    "    '''\n",
    "    fig = plt.gcf()\n",
    "    fig.savefig(r'C:\\Users\\DELL\\Desktop\\radar.png', figsize=(15,15),dpi=200)\n",
    "    \n",
    "    plt.show()"
   ]
  },
  {
   "cell_type": "code",
   "execution_count": 5,
   "metadata": {},
   "outputs": [
    {
     "name": "stdout",
     "output_type": "stream",
     "text": [
      "         ZL        ZR        ZF        ZM        ZC   类别数目\n",
      "0 -0.312872  1.687311 -0.573893 -0.536735 -0.176233  12105\n",
      "1  1.161296 -0.377455 -0.086538 -0.094390 -0.157523  15726\n",
      "2 -0.700439 -0.415281 -0.160508 -0.160194 -0.258967  24594\n",
      "3  0.483475 -0.799422  2.482936  2.424166  0.310327   5338\n",
      "4  0.039279 -0.001717 -0.233755 -0.238419  2.161024   4281\n"
     ]
    },
    {
     "data": {
      "text/plain": [
       "<Figure size 640x480 with 1 Axes>"
      ]
     },
     "metadata": {},
     "output_type": "display_data"
    },
    {
     "name": "stdout",
     "output_type": "stream",
     "text": [
      "END\n"
     ]
    }
   ],
   "source": [
    "# -*- coding: utf-8 -*-\n",
    "# K-Means聚类算法\n",
    "\n",
    "import pandas as pd\n",
    "from sklearn.cluster import KMeans  # 导入K均值聚类算法\n",
    "from warnings import simplefilter\n",
    "simplefilter(action='ignore', category=FutureWarning)\n",
    "'''\n",
    "------------------------------------------------------------------------------------\n",
    "路径改一下\n",
    "------------------------------------------------------------------------------------\n",
    "'''\n",
    "inputfile = r'C:\\Users\\DELL\\Desktop\\zscoreddata.xls'  # 待聚类的数据文件\n",
    "k = 5  # 需要进行的聚类类别数，需结合业务的理解和分析来确定客户的类别数量\n",
    "\n",
    "# 读取数据并进行聚类分析\n",
    "data = pd.read_excel(inputfile)  # 读取数据\n",
    "\n",
    "# 调用k-means算法，进行聚类分析\n",
    "# TODO: error here\n",
    "# n_jobs是并行数，一般等于CPU数较好 , window下多进程 跑失败\n",
    "kmodel = KMeans(n_clusters=k, n_jobs=1)  \n",
    "kmodel.fit(data)  # 训练模型\n",
    "\n",
    "print_cluster_result(data, kmodel)\n",
    "plot_cluster(data, kmodel)\n",
    "print('END')"
   ]
  },
  {
   "cell_type": "code",
   "execution_count": null,
   "metadata": {},
   "outputs": [],
   "source": []
  }
 ],
 "metadata": {
  "kernelspec": {
   "display_name": "Python [conda env:root] *",
   "language": "python",
   "name": "conda-root-py"
  },
  "language_info": {
   "codemirror_mode": {
    "name": "ipython",
    "version": 3
   },
   "file_extension": ".py",
   "mimetype": "text/x-python",
   "name": "python",
   "nbconvert_exporter": "python",
   "pygments_lexer": "ipython3",
   "version": "3.7.4"
  }
 },
 "nbformat": 4,
 "nbformat_minor": 2
}
