{
 "cells": [
  {
   "cell_type": "code",
   "execution_count": 1,
   "metadata": {},
   "outputs": [],
   "source": [
    "# 调用库\n",
    "import pandas as pd\n",
    "import numpy as np\n",
    "from sklearn.model_selection import train_test_split\n",
    "from sklearn.preprocessing import StandardScaler\n",
    "from sklearn.linear_model import LogisticRegression\n",
    "from sklearn.metrics import classification_report\n",
    "import matplotlib.pyplot as plt\n",
    "from sklearn.metrics import roc_curve\n",
    "from sklearn.ensemble import RandomForestClassifier\n",
    "from sklearn.ensemble import GradientBoostingClassifier\n",
    "from sklearn import svm\n",
    "from sklearn.tree import DecisionTreeClassifier"
   ]
  },
  {
   "cell_type": "code",
   "execution_count": 2,
   "metadata": {},
   "outputs": [],
   "source": [
    "# 混淆矩阵函数\n",
    "def plot_cm(y, yp):\n",
    "\n",
    "    from sklearn.metrics import confusion_matrix  # 导入混淆矩阵函数\n",
    "    cm = confusion_matrix(y, yp)  # 混淆矩阵\n",
    "\n",
    "    plt.figure()\n",
    "    plt.matshow(cm, cmap=plt.cm.Greens)  # 画混淆矩阵图，配色风格使用cm.Greens，更多风格请参考官网。\n",
    "    plt.colorbar()  # 颜色标签\n",
    "\n",
    "    for x in range(len(cm)):  # 数据标签\n",
    "        for y in range(len(cm)):\n",
    "            plt.annotate(cm[x, y], xy=(\n",
    "                x, y), horizontalalignment='center', verticalalignment='center')\n",
    "\n",
    "    plt.ylabel('True label')  # 坐标轴标签\n",
    "    plt.xlabel('Predicted label')  # 坐标轴标签\n",
    "    return plt\n",
    "\n",
    "#ROC曲线图\n",
    "def plot_roc_curve(fper, tper):\n",
    "    plt.plot(fper, tper, color='red', label='ROC')\n",
    "    plt.plot([0, 1], [0, 1], color='green', linestyle='--')\n",
    "    plt.xlabel('False Positive Rate')\n",
    "    plt.ylabel('True Positive Rate')\n",
    "    plt.title('Receiver Operating Characteristic Curve')\n",
    "    plt.legend()\n",
    "    \n",
    "    '''保存图片代码插入到这里'''\n",
    "    \n",
    "    plt.show()"
   ]
  },
  {
   "cell_type": "code",
   "execution_count": 3,
   "metadata": {},
   "outputs": [
    {
     "data": {
      "text/html": [
       "<div>\n",
       "<style scoped>\n",
       "    .dataframe tbody tr th:only-of-type {\n",
       "        vertical-align: middle;\n",
       "    }\n",
       "\n",
       "    .dataframe tbody tr th {\n",
       "        vertical-align: top;\n",
       "    }\n",
       "\n",
       "    .dataframe thead th {\n",
       "        text-align: right;\n",
       "    }\n",
       "</style>\n",
       "<table border=\"1\" class=\"dataframe\">\n",
       "  <thead>\n",
       "    <tr style=\"text-align: right;\">\n",
       "      <th></th>\n",
       "      <th>L</th>\n",
       "      <th>GENDER</th>\n",
       "      <th>FFP_TIER</th>\n",
       "      <th>AGE</th>\n",
       "      <th>FLIGHT_COUNT</th>\n",
       "      <th>SUM_YR_1</th>\n",
       "      <th>SUM_YR_2</th>\n",
       "      <th>SEG_KM_SUM</th>\n",
       "      <th>WEIGHTED_SEG_KM</th>\n",
       "      <th>AVG_FLIGHT_COUNT</th>\n",
       "      <th>...</th>\n",
       "      <th>L1Y_BP_SUM</th>\n",
       "      <th>EP_SUM</th>\n",
       "      <th>ADD_Point_SUM</th>\n",
       "      <th>Eli_Add_Point_Sum</th>\n",
       "      <th>Points_Sum</th>\n",
       "      <th>Point_NotFlight</th>\n",
       "      <th>ADD_POINTS_SUM_YR_1</th>\n",
       "      <th>ADD_POINTS_SUM_YR_2</th>\n",
       "      <th>EXCHANGE_COUNT</th>\n",
       "      <th>result</th>\n",
       "    </tr>\n",
       "  </thead>\n",
       "  <tbody>\n",
       "    <tr>\n",
       "      <td>0</td>\n",
       "      <td>90.200000</td>\n",
       "      <td>0.0</td>\n",
       "      <td>6</td>\n",
       "      <td>31.0</td>\n",
       "      <td>210</td>\n",
       "      <td>239560.0</td>\n",
       "      <td>234188.0</td>\n",
       "      <td>580717</td>\n",
       "      <td>558440.14</td>\n",
       "      <td>26.250</td>\n",
       "      <td>...</td>\n",
       "      <td>259111</td>\n",
       "      <td>74460</td>\n",
       "      <td>39992</td>\n",
       "      <td>114452</td>\n",
       "      <td>619760</td>\n",
       "      <td>50</td>\n",
       "      <td>3352</td>\n",
       "      <td>36640</td>\n",
       "      <td>34</td>\n",
       "      <td>0</td>\n",
       "    </tr>\n",
       "    <tr>\n",
       "      <td>1</td>\n",
       "      <td>86.566667</td>\n",
       "      <td>0.0</td>\n",
       "      <td>6</td>\n",
       "      <td>42.0</td>\n",
       "      <td>140</td>\n",
       "      <td>171483.0</td>\n",
       "      <td>167434.0</td>\n",
       "      <td>293678</td>\n",
       "      <td>367777.20</td>\n",
       "      <td>17.500</td>\n",
       "      <td>...</td>\n",
       "      <td>185122</td>\n",
       "      <td>41288</td>\n",
       "      <td>12000</td>\n",
       "      <td>53288</td>\n",
       "      <td>415768</td>\n",
       "      <td>33</td>\n",
       "      <td>0</td>\n",
       "      <td>12000</td>\n",
       "      <td>29</td>\n",
       "      <td>0</td>\n",
       "    </tr>\n",
       "    <tr>\n",
       "      <td>2</td>\n",
       "      <td>87.166667</td>\n",
       "      <td>0.0</td>\n",
       "      <td>6</td>\n",
       "      <td>40.0</td>\n",
       "      <td>135</td>\n",
       "      <td>163618.0</td>\n",
       "      <td>164982.0</td>\n",
       "      <td>283712</td>\n",
       "      <td>355966.50</td>\n",
       "      <td>16.875</td>\n",
       "      <td>...</td>\n",
       "      <td>182087</td>\n",
       "      <td>39711</td>\n",
       "      <td>15491</td>\n",
       "      <td>55202</td>\n",
       "      <td>406361</td>\n",
       "      <td>26</td>\n",
       "      <td>3491</td>\n",
       "      <td>12000</td>\n",
       "      <td>20</td>\n",
       "      <td>0</td>\n",
       "    </tr>\n",
       "    <tr>\n",
       "      <td>3</td>\n",
       "      <td>68.233333</td>\n",
       "      <td>0.0</td>\n",
       "      <td>5</td>\n",
       "      <td>64.0</td>\n",
       "      <td>23</td>\n",
       "      <td>116350.0</td>\n",
       "      <td>125500.0</td>\n",
       "      <td>281336</td>\n",
       "      <td>306900.88</td>\n",
       "      <td>2.875</td>\n",
       "      <td>...</td>\n",
       "      <td>151210</td>\n",
       "      <td>34890</td>\n",
       "      <td>0</td>\n",
       "      <td>34890</td>\n",
       "      <td>372204</td>\n",
       "      <td>12</td>\n",
       "      <td>0</td>\n",
       "      <td>0</td>\n",
       "      <td>11</td>\n",
       "      <td>1</td>\n",
       "    </tr>\n",
       "    <tr>\n",
       "      <td>4</td>\n",
       "      <td>60.533333</td>\n",
       "      <td>0.0</td>\n",
       "      <td>6</td>\n",
       "      <td>48.0</td>\n",
       "      <td>152</td>\n",
       "      <td>124560.0</td>\n",
       "      <td>130702.0</td>\n",
       "      <td>309928</td>\n",
       "      <td>300834.06</td>\n",
       "      <td>19.000</td>\n",
       "      <td>...</td>\n",
       "      <td>145396</td>\n",
       "      <td>42265</td>\n",
       "      <td>22704</td>\n",
       "      <td>64969</td>\n",
       "      <td>338813</td>\n",
       "      <td>39</td>\n",
       "      <td>0</td>\n",
       "      <td>22704</td>\n",
       "      <td>27</td>\n",
       "      <td>0</td>\n",
       "    </tr>\n",
       "  </tbody>\n",
       "</table>\n",
       "<p>5 rows × 29 columns</p>\n",
       "</div>"
      ],
      "text/plain": [
       "           L  GENDER  FFP_TIER   AGE  FLIGHT_COUNT  SUM_YR_1  SUM_YR_2  \\\n",
       "0  90.200000     0.0         6  31.0           210  239560.0  234188.0   \n",
       "1  86.566667     0.0         6  42.0           140  171483.0  167434.0   \n",
       "2  87.166667     0.0         6  40.0           135  163618.0  164982.0   \n",
       "3  68.233333     0.0         5  64.0            23  116350.0  125500.0   \n",
       "4  60.533333     0.0         6  48.0           152  124560.0  130702.0   \n",
       "\n",
       "   SEG_KM_SUM  WEIGHTED_SEG_KM  AVG_FLIGHT_COUNT  ...  L1Y_BP_SUM  EP_SUM  \\\n",
       "0      580717        558440.14            26.250  ...      259111   74460   \n",
       "1      293678        367777.20            17.500  ...      185122   41288   \n",
       "2      283712        355966.50            16.875  ...      182087   39711   \n",
       "3      281336        306900.88             2.875  ...      151210   34890   \n",
       "4      309928        300834.06            19.000  ...      145396   42265   \n",
       "\n",
       "   ADD_Point_SUM  Eli_Add_Point_Sum  Points_Sum  Point_NotFlight  \\\n",
       "0          39992             114452      619760               50   \n",
       "1          12000              53288      415768               33   \n",
       "2          15491              55202      406361               26   \n",
       "3              0              34890      372204               12   \n",
       "4          22704              64969      338813               39   \n",
       "\n",
       "   ADD_POINTS_SUM_YR_1  ADD_POINTS_SUM_YR_2  EXCHANGE_COUNT  result  \n",
       "0                 3352                36640              34       0  \n",
       "1                    0                12000              29       0  \n",
       "2                 3491                12000              20       0  \n",
       "3                    0                    0              11       1  \n",
       "4                    0                22704              27       0  \n",
       "\n",
       "[5 rows x 29 columns]"
      ]
     },
     "execution_count": 3,
     "metadata": {},
     "output_type": "execute_result"
    }
   ],
   "source": [
    "# 导入数据\n",
    "data = pd.read_csv(r'C:\\Users\\DELL\\Desktop\\data_new.csv')\n",
    "data = data.dropna()\n",
    "data.head()"
   ]
  },
  {
   "cell_type": "code",
   "execution_count": 4,
   "metadata": {},
   "outputs": [],
   "source": [
    "# 确定特征值和目标值\n",
    "x = data.iloc[:, 0:28] # 这里根据你的数据量改变\n",
    "y = data[\"result\"]"
   ]
  },
  {
   "cell_type": "code",
   "execution_count": 5,
   "metadata": {},
   "outputs": [],
   "source": [
    "#分割数据\n",
    "x_train, x_test, y_train, y_test = train_test_split(x, y, random_state=22, train_size=0.8)"
   ]
  },
  {
   "cell_type": "code",
   "execution_count": 6,
   "metadata": {},
   "outputs": [],
   "source": [
    "# 特征工程(标准化)\n",
    "transfer = StandardScaler()\n",
    "x_train = transfer.fit_transform(x_train)\n",
    "x_test = transfer.transform(x_test)"
   ]
  },
  {
   "cell_type": "code",
   "execution_count": 7,
   "metadata": {},
   "outputs": [
    {
     "name": "stdout",
     "output_type": "stream",
     "text": [
      "      Iter       Train Loss   Remaining Time \n",
      "         1           1.0463           17.73s\n",
      "         2           0.9066           18.11s\n",
      "         3           0.8016           18.77s\n",
      "         4           0.7453           18.79s\n",
      "         5           0.6870           18.87s\n",
      "         6           0.6369           19.11s\n",
      "         7           0.5992           19.06s\n",
      "         8           0.5775           18.94s\n",
      "         9           0.5496           19.08s\n",
      "        10           0.5222           19.01s\n",
      "        20           0.3900           17.42s\n",
      "        30           0.3320           15.93s\n",
      "        40           0.2923           14.48s\n",
      "        50           0.2643           12.84s\n",
      "        60           0.2437           11.17s\n",
      "        70           0.2289            9.38s\n",
      "        80           0.2135            7.71s\n",
      "        90           0.2023            6.08s\n",
      "       100           0.1916            4.38s\n"
     ]
    },
    {
     "data": {
      "text/plain": [
       "GradientBoostingClassifier(learning_rate=0.3, max_depth=5, max_features=13,\n",
       "                           n_estimators=120, verbose=1)"
      ]
     },
     "execution_count": 7,
     "metadata": {},
     "output_type": "execute_result"
    }
   ],
   "source": [
    "# 机器学习(逻辑回归)\n",
    "#estimator = LogisticRegression(max_iter=1000,C=10, penalty='l2') # C是正则项前面系数的倒数;penalty是使用l1正则项还是l2正则项\n",
    "# 随机森林\n",
    "estimator = RandomForestClassifier(min_samples_split=2,min_samples_leaf=1,n_estimators=100)\n",
    "# 梯度上升树\n",
    "#estimator = GradientBoostingClassifier(loss='deviance',learning_rate=0.3,n_estimators=120,max_depth=5,min_samples_split=2,min_samples_leaf=1,max_features=13,verbose=1)\n",
    "# SVM 这个运行时间好长\n",
    "#estimator = svm.SVC(probability=True)\n",
    "# CART决策树 这个ROC曲线是折线 （测试集的结果【1,0,1】  训练出来的结果【1,0,1】）\n",
    "#estimator = DecisionTreeClassifier()\n",
    "\n",
    "estimator.fit(x_train, y_train)"
   ]
  },
  {
   "cell_type": "code",
   "execution_count": 8,
   "metadata": {},
   "outputs": [
    {
     "name": "stdout",
     "output_type": "stream",
     "text": [
      "[0 0 1 ... 0 1 0]\n",
      "0.945967872789226\n",
      "召回率：               precision    recall  f1-score   support\n",
      "\n",
      "         未流失       0.94      0.97      0.96      7628\n",
      "         已流失       0.95      0.91      0.93      4698\n",
      "\n",
      "    accuracy                           0.95     12326\n",
      "   macro avg       0.95      0.94      0.94     12326\n",
      "weighted avg       0.95      0.95      0.95     12326\n",
      "\n"
     ]
    }
   ],
   "source": [
    "# 模型评估\n",
    "y_predict = estimator.predict(x_test)\n",
    "print(y_predict)\n",
    "print(estimator.score(x_test,y_test))\n",
    "print(\"召回率：\", classification_report(y_test, y_predict, labels=[0, 1], target_names=[\"未流失\", \"已流失\"]))"
   ]
  },
  {
   "cell_type": "code",
   "execution_count": 9,
   "metadata": {},
   "outputs": [
    {
     "data": {
      "text/plain": [
       "<Figure size 432x288 with 0 Axes>"
      ]
     },
     "metadata": {},
     "output_type": "display_data"
    },
    {
     "data": {
      "image/png": "[encoded data removed]",
      "text/plain": [
       "<Figure size 288x288 with 2 Axes>"
      ]
     },
     "metadata": {
      "needs_background": "light"
     },
     "output_type": "display_data"
    }
   ],
   "source": [
    "plot_cm(y_test, y_predict).show() #这条语句可能会报错但是还是可以显示出图片，网上说是tight_layout在plt.savefig的调用方式相对比较稳定，我们将plt.show()函数替换为plt.savefig函数\n",
    "#plot_cm(y_test, y_predict).savefig(r'C:\\Users\\DELL\\Desktop\\breast-cancer-wisconsin.png', bbox_inches='tight')"
   ]
  },
  {
   "cell_type": "code",
   "execution_count": 10,
   "metadata": {},
   "outputs": [
    {
     "name": "stdout",
     "output_type": "stream",
     "text": [
      "[0.02145323 0.01678584 0.99972151 ... 0.01436917 0.99015001 0.00523007]\n"
     ]
    },
    {
     "data": {
      "image/png": "[encoded data removed]",
      "text/plain": [
       "<Figure size 432x288 with 1 Axes>"
      ]
     },
     "metadata": {
      "needs_background": "light"
     },
     "output_type": "display_data"
    }
   ],
   "source": [
    "prob = estimator.predict_proba(x_test)\n",
    "print(prob[:, 1])\n",
    "prob = prob[:, 1]\n",
    "fper, tper, thresholds = roc_curve(y_test.values, prob)\n",
    "plot_roc_curve(fper, tper)"
   ]
  },
  {
   "cell_type": "code",
   "execution_count": null,
   "metadata": {},
   "outputs": [],
   "source": []
  }
 ],
 "metadata": {
  "kernelspec": {
   "display_name": "Python [conda env:root] *",
   "language": "python",
   "name": "conda-root-py"
  },
  "language_info": {
   "codemirror_mode": {
    "name": "ipython",
    "version": 3
   },
   "file_extension": ".py",
   "mimetype": "text/x-python",
   "name": "python",
   "nbconvert_exporter": "python",
   "pygments_lexer": "ipython3",
   "version": "3.7.4"
  }
 },
 "nbformat": 4,
 "nbformat_minor": 2
}
